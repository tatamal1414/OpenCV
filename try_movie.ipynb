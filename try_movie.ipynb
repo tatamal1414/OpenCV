{
 "cells": [
  {
   "cell_type": "code",
   "execution_count": 1,
   "id": "4cc9558f",
   "metadata": {},
   "outputs": [
    {
     "data": {
      "text/plain": [
       "True"
      ]
     },
     "execution_count": 1,
     "metadata": {},
     "output_type": "execute_result"
    }
   ],
   "source": [
    "import cv2\n",
    "data = cv2.VideoCapture('./sample.mp4')\n",
    "type(data)\n",
    "data.isOpened()"
   ]
  },
  {
   "cell_type": "code",
   "execution_count": null,
   "id": "03bd1859",
   "metadata": {},
   "outputs": [],
   "source": [
    "while True:\n",
    "    ret,frame = data.read()\n",
    "    if ret:\n",
    "        cv2.imshow('sample_data',frame)\n",
    "        cv2.waitkey(1)\n",
    "    else:\n",
    "        data.set(cv2.CAP_PROP_FRAMES,0)\n",
    "cv2.destroyWindow('sample_data')\n"
   ]
  },
  {
   "cell_type": "code",
   "execution_count": null,
   "id": "5eade20e",
   "metadata": {},
   "outputs": [],
   "source": []
  },
  {
   "cell_type": "code",
   "execution_count": null,
   "id": "432cd5b0",
   "metadata": {},
   "outputs": [],
   "source": []
  },
  {
   "cell_type": "code",
   "execution_count": null,
   "id": "450027b2",
   "metadata": {},
   "outputs": [],
   "source": []
  }
 ],
 "metadata": {
  "kernelspec": {
   "display_name": "Python 3 (ipykernel)",
   "language": "python",
   "name": "python3"
  },
  "language_info": {
   "codemirror_mode": {
    "name": "ipython",
    "version": 3
   },
   "file_extension": ".py",
   "mimetype": "text/x-python",
   "name": "python",
   "nbconvert_exporter": "python",
   "pygments_lexer": "ipython3",
   "version": "3.8.10"
  }
 },
 "nbformat": 4,
 "nbformat_minor": 5
}
